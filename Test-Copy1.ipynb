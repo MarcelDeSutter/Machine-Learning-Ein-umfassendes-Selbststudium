{
 "cells": [
  {
   "cell_type": "markdown",
   "metadata": {},
   "source": [
    "$$\\vec{u}=\\left[\\begin{matrix}u^{(1)}\\\\u^{(2)}\\\\\\vdots\\\\u^{(m)}\\\\\\end{matrix}\\right],\\hspace{0.3cm}\\vec{v}=\\left[\\begin{matrix}v^{(1)}\\\\v^{(2)}\\\\\\vdots\\\\v^{(m)}\\\\\\end{matrix}\\right]\\in\\mathbb{R}^m$$\n",
    "\n",
    "$$r=\\frac{\\sum_{i=1}^{m}\\left[(u^{(i)}-\\mu_u)(v^{(i)}-\\mu_v)\\right]}{\\sqrt{\\sum_{i=1}^{m}{(u^{(i)}-\\mu_u)}^2}\\sqrt{\\sum_{i=1}^{m}{(v^{(i)}-\\mu_v)}^2}}=\\frac{cov(u, v)}{\\sigma_u\\sigma_v}$$\n",
    "\n",
    "$$r=\\frac{(\\vec{u}-\\mu_u)^{T}(\\vec{v}-\\mu_v)}{\\sqrt{(\\vec{u}-\\mu_u)^{T}(\\vec{u}-\\mu_u)}\\sqrt{(\\vec{v}-\\mu_v)^{T}(\\vec{v}-\\mu_v)}}$$"
   ]
  }
 ],
 "metadata": {
  "kernelspec": {
   "display_name": "Python 3",
   "language": "python",
   "name": "python3"
  },
  "language_info": {
   "codemirror_mode": {
    "name": "ipython",
    "version": 3
   },
   "file_extension": ".py",
   "mimetype": "text/x-python",
   "name": "python",
   "nbconvert_exporter": "python",
   "pygments_lexer": "ipython3",
   "version": "3.6.5"
  }
 },
 "nbformat": 4,
 "nbformat_minor": 2
}
